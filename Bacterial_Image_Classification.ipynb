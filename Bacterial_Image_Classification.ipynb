{
  "nbformat": 4,
  "nbformat_minor": 0,
  "metadata": {
    "colab": {
      "name": "Bacterial_Image_Classification.ipynb",
      "provenance": [],
      "collapsed_sections": []
    },
    "kernelspec": {
      "name": "python3",
      "display_name": "Python 3"
    },
    "language_info": {
      "name": "python"
    },
    "accelerator": "GPU"
  },
  "cells": [
    {
      "cell_type": "markdown",
      "source": [
        "# Bacteria Image Classification using EfficientNet\n",
        "\n",
        "[Dataset](http://misztal.edu.pl/software/databases/dibas/)."
      ],
      "metadata": {
        "id": "aeKDInnNsvsh"
      }
    },
    {
      "cell_type": "code",
      "source": [
        "##run this cell only on first run, after restarting runtime start running from the next cell\n",
        "!pip install q keras==2.3.1\n",
        "!pip install 'h5py==2.10.0' --force-reinstall"
      ],
      "metadata": {
        "id": "J_0EJnsfs7U9",
        "colab": {
          "base_uri": "https://localhost:8080/",
          "height": 1000
        },
        "outputId": "b9584261-2610-4958-f55f-6118dc888166"
      },
      "execution_count": 1,
      "outputs": [
        {
          "output_type": "stream",
          "name": "stdout",
          "text": [
            "Collecting q\n",
            "  Downloading q-2.6-py2.py3-none-any.whl (6.8 kB)\n",
            "Collecting keras==2.3.1\n",
            "  Downloading Keras-2.3.1-py2.py3-none-any.whl (377 kB)\n",
            "\u001b[K     |████████████████████████████████| 377 kB 12.7 MB/s \n",
            "\u001b[?25hRequirement already satisfied: numpy>=1.9.1 in /usr/local/lib/python3.7/dist-packages (from keras==2.3.1) (1.19.5)\n",
            "Requirement already satisfied: scipy>=0.14 in /usr/local/lib/python3.7/dist-packages (from keras==2.3.1) (1.4.1)\n",
            "Requirement already satisfied: pyyaml in /usr/local/lib/python3.7/dist-packages (from keras==2.3.1) (3.13)\n",
            "Requirement already satisfied: h5py in /usr/local/lib/python3.7/dist-packages (from keras==2.3.1) (3.1.0)\n",
            "Requirement already satisfied: six>=1.9.0 in /usr/local/lib/python3.7/dist-packages (from keras==2.3.1) (1.15.0)\n",
            "Collecting keras-applications>=1.0.6\n",
            "  Downloading Keras_Applications-1.0.8-py3-none-any.whl (50 kB)\n",
            "\u001b[K     |████████████████████████████████| 50 kB 7.4 MB/s \n",
            "\u001b[?25hRequirement already satisfied: keras-preprocessing>=1.0.5 in /usr/local/lib/python3.7/dist-packages (from keras==2.3.1) (1.1.2)\n",
            "Requirement already satisfied: cached-property in /usr/local/lib/python3.7/dist-packages (from h5py->keras==2.3.1) (1.5.2)\n",
            "Installing collected packages: keras-applications, q, keras\n",
            "  Attempting uninstall: keras\n",
            "    Found existing installation: keras 2.7.0\n",
            "    Uninstalling keras-2.7.0:\n",
            "      Successfully uninstalled keras-2.7.0\n",
            "\u001b[31mERROR: pip's dependency resolver does not currently take into account all the packages that are installed. This behaviour is the source of the following dependency conflicts.\n",
            "tensorflow 2.7.0 requires keras<2.8,>=2.7.0rc0, but you have keras 2.3.1 which is incompatible.\u001b[0m\n",
            "Successfully installed keras-2.3.1 keras-applications-1.0.8 q-2.6\n",
            "Collecting h5py==2.10.0\n",
            "  Downloading h5py-2.10.0-cp37-cp37m-manylinux1_x86_64.whl (2.9 MB)\n",
            "\u001b[K     |████████████████████████████████| 2.9 MB 11.2 MB/s \n",
            "\u001b[?25hCollecting numpy>=1.7\n",
            "  Downloading numpy-1.21.4-cp37-cp37m-manylinux_2_12_x86_64.manylinux2010_x86_64.whl (15.7 MB)\n",
            "\u001b[K     |████████████████████████████████| 15.7 MB 203 kB/s \n",
            "\u001b[?25hCollecting six\n",
            "  Downloading six-1.16.0-py2.py3-none-any.whl (11 kB)\n",
            "Installing collected packages: six, numpy, h5py\n",
            "  Attempting uninstall: six\n",
            "    Found existing installation: six 1.15.0\n",
            "    Uninstalling six-1.15.0:\n",
            "      Successfully uninstalled six-1.15.0\n",
            "  Attempting uninstall: numpy\n",
            "    Found existing installation: numpy 1.19.5\n",
            "    Uninstalling numpy-1.19.5:\n",
            "      Successfully uninstalled numpy-1.19.5\n",
            "  Attempting uninstall: h5py\n",
            "    Found existing installation: h5py 3.1.0\n",
            "    Uninstalling h5py-3.1.0:\n",
            "      Successfully uninstalled h5py-3.1.0\n",
            "\u001b[31mERROR: pip's dependency resolver does not currently take into account all the packages that are installed. This behaviour is the source of the following dependency conflicts.\n",
            "yellowbrick 1.3.post1 requires numpy<1.20,>=1.16.0, but you have numpy 1.21.4 which is incompatible.\n",
            "tensorflow 2.7.0 requires keras<2.8,>=2.7.0rc0, but you have keras 2.3.1 which is incompatible.\n",
            "google-colab 1.0.0 requires six~=1.15.0, but you have six 1.16.0 which is incompatible.\n",
            "datascience 0.10.6 requires folium==0.2.1, but you have folium 0.8.3 which is incompatible.\n",
            "albumentations 0.1.12 requires imgaug<0.2.7,>=0.2.5, but you have imgaug 0.2.9 which is incompatible.\u001b[0m\n",
            "Successfully installed h5py-2.10.0 numpy-1.21.4 six-1.16.0\n"
          ]
        },
        {
          "output_type": "display_data",
          "data": {
            "application/vnd.colab-display-data+json": {
              "pip_warning": {
                "packages": [
                  "numpy",
                  "six"
                ]
              }
            }
          },
          "metadata": {}
        }
      ]
    },
    {
      "cell_type": "code",
      "source": [
        "%tensorflow_version 1.x"
      ],
      "metadata": {
        "colab": {
          "base_uri": "https://localhost:8080/"
        },
        "id": "Ez9QfvuFshs_",
        "outputId": "f2795dd3-355a-41ae-f3b3-9de1f8d03663"
      },
      "execution_count": 1,
      "outputs": [
        {
          "output_type": "stream",
          "name": "stdout",
          "text": [
            "TensorFlow 1.x selected.\n"
          ]
        }
      ]
    },
    {
      "cell_type": "code",
      "source": [
        "import keras\n",
        "keras.__version__"
      ],
      "metadata": {
        "colab": {
          "base_uri": "https://localhost:8080/",
          "height": 53
        },
        "id": "efhfcTidtM2D",
        "outputId": "56d9c4eb-bf48-46ee-9b96-9ca4eaf7e223"
      },
      "execution_count": 2,
      "outputs": [
        {
          "output_type": "stream",
          "name": "stderr",
          "text": [
            "Using TensorFlow backend.\n"
          ]
        },
        {
          "output_type": "execute_result",
          "data": {
            "application/vnd.google.colaboratory.intrinsic+json": {
              "type": "string"
            },
            "text/plain": [
              "'2.3.1'"
            ]
          },
          "metadata": {},
          "execution_count": 2
        }
      ]
    },
    {
      "cell_type": "code",
      "execution_count": 3,
      "metadata": {
        "colab": {
          "base_uri": "https://localhost:8080/"
        },
        "id": "ZBb3Jeijqrci",
        "outputId": "caac595b-b656-43f5-b0b0-d645d855d916"
      },
      "outputs": [
        {
          "output_type": "stream",
          "name": "stdout",
          "text": [
            "Mounted at /content/drive\n"
          ]
        }
      ],
      "source": [
        "from google.colab import drive\n",
        "drive.mount('/content/drive')"
      ]
    },
    {
      "cell_type": "code",
      "source": [
        "IMG_PATH = '/content/drive/MyDrive/Bacteria-Dataset/' "
      ],
      "metadata": {
        "id": "16HQ-HEqq6OE"
      },
      "execution_count": 4,
      "outputs": []
    },
    {
      "cell_type": "code",
      "source": [
        "from tensorflow.keras import models\n",
        "from tensorflow.keras import layers\n",
        "from tensorflow.keras import optimizers\n",
        "from keras.callbacks import ModelCheckpoint\n",
        "import os\n",
        "import glob\n",
        "import shutil\n",
        "import sys\n",
        "import numpy as np\n",
        "from skimage.io import imread\n",
        "import matplotlib.pyplot as plt\n",
        "from IPython.display import Image\n",
        "%matplotlib inline"
      ],
      "metadata": {
        "id": "tPkKmnFMrLKU"
      },
      "execution_count": 5,
      "outputs": []
    },
    {
      "cell_type": "code",
      "source": [
        "import os\n",
        "%cd /content\n",
        "if not os.path.isdir(\"efficientnet_keras_transfer_learning\"):\n",
        "  !git clone https://github.com/Tony607/efficientnet_keras_transfer_learning\n",
        "%cd efficientnet_keras_transfer_learning/"
      ],
      "metadata": {
        "colab": {
          "base_uri": "https://localhost:8080/"
        },
        "id": "W2tvdTFsrQlL",
        "outputId": "d4ea6fe3-de5f-4f3f-8de6-7ef82478bfa3"
      },
      "execution_count": 6,
      "outputs": [
        {
          "output_type": "stream",
          "name": "stdout",
          "text": [
            "/content\n",
            "Cloning into 'efficientnet_keras_transfer_learning'...\n",
            "remote: Enumerating objects: 171, done.\u001b[K\n",
            "remote: Total 171 (delta 0), reused 0 (delta 0), pack-reused 171\u001b[K\n",
            "Receiving objects: 100% (171/171), 5.44 MiB | 5.61 MiB/s, done.\n",
            "Resolving deltas: 100% (98/98), done.\n",
            "/content/efficientnet_keras_transfer_learning\n"
          ]
        }
      ]
    },
    {
      "cell_type": "code",
      "source": [
        "from efficientnet import EfficientNetB0 as Net ## EfficientNetB0, EfficientNetB1, EfficientNetB2, EfficientNetB3\n",
        "from efficientnet import center_crop_and_resize, preprocess_input"
      ],
      "metadata": {
        "id": "CnnxZ8r8rZwm"
      },
      "execution_count": 7,
      "outputs": []
    },
    {
      "cell_type": "code",
      "source": [
        "width = 224\n",
        "height = 224\n",
        "input_shape = (height, width, 3)\n",
        "\n",
        "conv_base = Net(weights='imagenet', include_top=False, input_shape=input_shape)"
      ],
      "metadata": {
        "id": "IClwLKAdriBk"
      },
      "execution_count": null,
      "outputs": []
    },
    {
      "cell_type": "markdown",
      "source": [
        "Splitting images into (224,224) for larger dataset."
      ],
      "metadata": {
        "id": "NAyuJG13tkjx"
      }
    },
    {
      "cell_type": "code",
      "source": [
        "from PIL import Image\n",
        "import numpy as np\n",
        "\n",
        "def process_image(im, path, i):\n",
        "    imarray = np.array(im)\n",
        "    h, w = imarray.shape[:2]\n",
        "    target_h, target_w = 224, 224\n",
        "    j = 0\n",
        "    for row in np.arange(h - target_h +1, step = target_h):\n",
        "        for col in np.arange(w - target_w +1, step = target_w):\n",
        "\n",
        "            img_new = imarray[row:row+target_h, col:col+target_w, :]\n",
        "            img_new = Image.fromarray(img_new)\n",
        "            \n",
        "            if not os.path.exists(path + f\"{i}_{j}\" + \".png\"):\n",
        "              img_new.save(path + f\"{i}_{j}\" + \".png\")\n",
        "              j+= 1\n",
        "\n"
      ],
      "metadata": {
        "id": "HnBQ07i9lF3D"
      },
      "execution_count": 9,
      "outputs": []
    },
    {
      "cell_type": "code",
      "source": [
        "# import shutil\n",
        "# shutil.rmtree('/content/images/')"
      ],
      "metadata": {
        "id": "ojp1uFopb5Ta"
      },
      "execution_count": null,
      "outputs": []
    },
    {
      "cell_type": "code",
      "source": [
        "if not os.path.exists('/content/images/'):\n",
        "  os.mkdir('/content/images/')\n",
        "for CLASS in os.listdir(IMG_PATH):\n",
        "    if not CLASS.startswith('.'):\n",
        "      print(CLASS)\n",
        "      if not os.path.exists('/content/images/'+CLASS):\n",
        "        os.mkdir('/content/images/'+CLASS)\n",
        "      for (n, FILE_NAME) in enumerate(os.listdir(IMG_PATH + CLASS)):\n",
        "        if os.path.exists(IMG_PATH + CLASS + '/' + FILE_NAME):\n",
        "          img = Image.open(IMG_PATH + CLASS + '/' + FILE_NAME)\n",
        "          process_image(img, '/content/images/' + CLASS + '/',n)\n",
        "\n"
      ],
      "metadata": {
        "colab": {
          "base_uri": "https://localhost:8080/"
        },
        "id": "lyTJOur2Shti",
        "outputId": "241b5e75-c267-4a17-cbc5-30112bcb80cf"
      },
      "execution_count": 10,
      "outputs": [
        {
          "output_type": "stream",
          "name": "stdout",
          "text": [
            "Staphylococcus.saprophiticus\n",
            "Staphylococcus.aureus\n",
            "Lactobacillus.gasseri\n",
            "Bacteroides.fragilis\n",
            "Pseudomonas.aeruginosa\n",
            "Enterococcus.faecium\n",
            "Actinomyces.israeli\n",
            "Candida.albicans\n",
            "Lactobacillus.rhamnosus\n",
            "Staphylococcus.epidermidis\n",
            "Acinetobacter.baumanii\n"
          ]
        }
      ]
    },
    {
      "cell_type": "code",
      "source": [
        "# shutil.rmtree('/content/efficientnet_keras_transfer_learning/TEST')\n",
        "# shutil.rmtree('/content/efficientnet_keras_transfer_learning/TRAIN')\n",
        "# shutil.rmtree('/content/efficientnet_keras_transfer_learning/VAL')\n"
      ],
      "metadata": {
        "id": "9PXrc1aLfhVN"
      },
      "execution_count": null,
      "outputs": []
    },
    {
      "cell_type": "code",
      "source": [
        "os.mkdir('TEST')\n",
        "os.mkdir('TRAIN')\n",
        "os.mkdir('VAL')\n",
        "IMG_PATH = '/content/images/'\n",
        "for CLASS in os.listdir(IMG_PATH):\n",
        "    if not CLASS.startswith('.'):\n",
        "        print(CLASS)\n",
        "        IMG_NUM = len(os.listdir(IMG_PATH + CLASS))\n",
        "        os.mkdir('TEST/'+CLASS.upper())\n",
        "        os.mkdir('TRAIN/'+CLASS.upper())\n",
        "        os.mkdir('VAL/'+CLASS.upper())\n",
        "        for (n, FILE_NAME) in enumerate(os.listdir(IMG_PATH + CLASS)):\n",
        "            img = IMG_PATH + CLASS + '/' + FILE_NAME\n",
        "            # print(img)\n",
        "            if n > 0.9*IMG_NUM:\n",
        "                shutil.copy(img, 'TEST/' + CLASS.upper() + '/' + FILE_NAME)\n",
        "            elif n < 0.8*IMG_NUM:\n",
        "                shutil.copy(img, 'TRAIN/'+ CLASS.upper() + '/' + FILE_NAME)\n",
        "            else:\n",
        "                shutil.copy(img, 'VAL/'+ CLASS.upper() + '/' + FILE_NAME)"
      ],
      "metadata": {
        "id": "x3IbTrG2s3sU",
        "colab": {
          "base_uri": "https://localhost:8080/"
        },
        "outputId": "5f771e6d-6195-4f75-efc4-48b60fe314e4"
      },
      "execution_count": 11,
      "outputs": [
        {
          "output_type": "stream",
          "name": "stdout",
          "text": [
            "Lactobacillus.gasseri\n",
            "Candida.albicans\n",
            "Acinetobacter.baumanii\n",
            "Staphylococcus.saprophiticus\n",
            "Enterococcus.faecium\n",
            "Bacteroides.fragilis\n",
            "Staphylococcus.epidermidis\n",
            "Pseudomonas.aeruginosa\n",
            "Actinomyces.israeli\n",
            "Lactobacillus.rhamnosus\n",
            "Staphylococcus.aureus\n"
          ]
        }
      ]
    },
    {
      "cell_type": "code",
      "source": [
        "train_dir = '/content/efficientnet_keras_transfer_learning/TRAIN/'\n",
        "test_dir = '/content/efficientnet_keras_transfer_learning/TEST/'\n",
        "val_dir = '/content/efficientnet_keras_transfer_learning/VAL/'\n",
        "batch_size = 32"
      ],
      "metadata": {
        "id": "y1oRsq3EngGj"
      },
      "execution_count": 12,
      "outputs": []
    },
    {
      "cell_type": "code",
      "source": [
        "from tensorflow.keras.preprocessing.image import ImageDataGenerator\n",
        "\n",
        "train_datagen = ImageDataGenerator(\n",
        "      rescale=1./255,horizontal_flip=True,rotation_range=360,vertical_flip=True)\n",
        "\n",
        "# Note that the validation data should not be augmented!\n",
        "test_datagen = ImageDataGenerator(rescale=1./255)\n",
        "\n",
        "train_generator = train_datagen.flow_from_directory(\n",
        "        train_dir,\n",
        "        target_size=(height, width),\n",
        "        batch_size=batch_size,\n",
        "        class_mode='categorical')\n",
        "\n",
        "validation_generator = test_datagen.flow_from_directory(\n",
        "        val_dir,\n",
        "        target_size=(height, width),\n",
        "        batch_size=batch_size,\n",
        "        class_mode='categorical')\n",
        "train_generator.class_indices"
      ],
      "metadata": {
        "colab": {
          "base_uri": "https://localhost:8080/"
        },
        "id": "GFUPE_KWquPS",
        "outputId": "23ce1f44-f103-4c99-b766-26933f10a5ea"
      },
      "execution_count": 13,
      "outputs": [
        {
          "output_type": "stream",
          "name": "stdout",
          "text": [
            "Found 9764 images belonging to 11 classes.\n",
            "Found 1229 images belonging to 11 classes.\n"
          ]
        },
        {
          "output_type": "execute_result",
          "data": {
            "text/plain": [
              "{'ACINETOBACTER.BAUMANII': 0,\n",
              " 'ACTINOMYCES.ISRAELI': 1,\n",
              " 'BACTEROIDES.FRAGILIS': 2,\n",
              " 'CANDIDA.ALBICANS': 3,\n",
              " 'ENTEROCOCCUS.FAECIUM': 4,\n",
              " 'LACTOBACILLUS.GASSERI': 5,\n",
              " 'LACTOBACILLUS.RHAMNOSUS': 6,\n",
              " 'PSEUDOMONAS.AERUGINOSA': 7,\n",
              " 'STAPHYLOCOCCUS.AUREUS': 8,\n",
              " 'STAPHYLOCOCCUS.EPIDERMIDIS': 9,\n",
              " 'STAPHYLOCOCCUS.SAPROPHITICUS': 10}"
            ]
          },
          "metadata": {},
          "execution_count": 13
        }
      ]
    },
    {
      "cell_type": "code",
      "source": [
        "epochs = 10\n",
        "NUM_TRAIN = sum([len(files) for r, d, files in os.walk(train_dir)])\n",
        "NUM_TEST = sum([len(files) for r, d, files in os.walk(val_dir)])\n",
        "dropout_rate = 0.2"
      ],
      "metadata": {
        "id": "a2Mu_EqTq-S3"
      },
      "execution_count": 26,
      "outputs": []
    },
    {
      "cell_type": "code",
      "source": [
        "num_classes = len(os.listdir(train_dir))\n",
        "conv_base.trainable = True\n",
        "model = models.Sequential()\n",
        "model.add(conv_base)\n",
        "model.add(layers.GlobalMaxPooling2D(name=\"gap\"))\n",
        "if dropout_rate > 0:\n",
        "    model.add(layers.Dropout(dropout_rate, name=\"dropout_out\"))\n",
        "model.add(layers.Dense(256, activation='relu', name=\"fc1\"))\n",
        "model.add(layers.Dropout(dropout_rate, name=\"dropout_2\"))\n",
        "model.add(layers.Dense(num_classes, activation='softmax', name=\"fc_out\"))\n",
        "model_ckpt = ModelCheckpoint('best_model.hdf5', monitor=\"val_acc\", verbose=1, save_best_only=True, save_weights_only=True, mode='max')"
      ],
      "metadata": {
        "id": "yw0gnH-TruGN"
      },
      "execution_count": null,
      "outputs": []
    },
    {
      "cell_type": "code",
      "source": [
        "model.compile(loss='categorical_crossentropy',\n",
        "              optimizer=optimizers.Adam(lr=1e-4),\n",
        "              metrics=['acc'])\n",
        "\n",
        "history = model.fit_generator(\n",
        "      train_generator,\n",
        "      steps_per_epoch= NUM_TRAIN // batch_size,\n",
        "      epochs=epochs,\n",
        "      validation_data=validation_generator,\n",
        "      validation_steps= NUM_TEST // batch_size,\n",
        "      verbose=1,\n",
        "      use_multiprocessing=True,\n",
        "      workers=4,\n",
        "      callbacks=[model_ckpt])"
      ],
      "metadata": {
        "colab": {
          "base_uri": "https://localhost:8080/"
        },
        "id": "aJGhvBPl0c_S",
        "outputId": "6ad39f50-1982-4492-cb2a-7ed3857eb097"
      },
      "execution_count": 28,
      "outputs": [
        {
          "output_type": "stream",
          "name": "stdout",
          "text": [
            "Epoch 1/10\n",
            "304/305 [============================>.] - ETA: 0s - loss: 0.2847 - acc: 0.9205Epoch 1/10\n",
            " 38/305 [==>...........................] - ETA: 1:21 - loss: 0.0613 - acc: 0.9786\n",
            "Epoch 00001: val_acc improved from -inf to 0.97862, saving model to best_model.hdf5\n",
            "305/305 [==============================] - 242s 793ms/step - loss: 0.2837 - acc: 0.9208 - val_loss: 0.0613 - val_acc: 0.9786\n",
            "Epoch 2/10\n",
            "304/305 [============================>.] - ETA: 0s - loss: 0.1084 - acc: 0.9643Epoch 1/10\n",
            " 38/305 [==>...........................] - ETA: 49s - loss: 0.0345 - acc: 0.9868\n",
            "Epoch 00002: val_acc improved from 0.97862 to 0.98684, saving model to best_model.hdf5\n",
            "305/305 [==============================] - 219s 716ms/step - loss: 0.1085 - acc: 0.9643 - val_loss: 0.0345 - val_acc: 0.9868\n",
            "Epoch 3/10\n",
            "304/305 [============================>.] - ETA: 0s - loss: 0.0884 - acc: 0.9719Epoch 1/10\n",
            " 38/305 [==>...........................] - ETA: 49s - loss: 0.0503 - acc: 0.9844\n",
            "Epoch 00003: val_acc did not improve from 0.98684\n",
            "305/305 [==============================] - 219s 718ms/step - loss: 0.0882 - acc: 0.9719 - val_loss: 0.0503 - val_acc: 0.9844\n",
            "Epoch 4/10\n",
            "304/305 [============================>.] - ETA: 0s - loss: 0.0832 - acc: 0.9744Epoch 1/10\n",
            " 38/305 [==>...........................] - ETA: 49s - loss: 0.0315 - acc: 0.9893\n",
            "Epoch 00004: val_acc improved from 0.98684 to 0.98931, saving model to best_model.hdf5\n",
            "305/305 [==============================] - 218s 715ms/step - loss: 0.0830 - acc: 0.9745 - val_loss: 0.0315 - val_acc: 0.9893\n",
            "Epoch 5/10\n",
            "304/305 [============================>.] - ETA: 0s - loss: 0.0794 - acc: 0.9772Epoch 1/10\n",
            " 38/305 [==>...........................] - ETA: 50s - loss: 0.0419 - acc: 0.9852\n",
            "Epoch 00005: val_acc did not improve from 0.98931\n",
            "305/305 [==============================] - 219s 718ms/step - loss: 0.0795 - acc: 0.9771 - val_loss: 0.0419 - val_acc: 0.9852\n",
            "Epoch 6/10\n",
            "304/305 [============================>.] - ETA: 0s - loss: 0.0695 - acc: 0.9782Epoch 1/10\n",
            " 38/305 [==>...........................] - ETA: 50s - loss: 0.0538 - acc: 0.9811\n",
            "Epoch 00006: val_acc did not improve from 0.98931\n",
            "305/305 [==============================] - 218s 714ms/step - loss: 0.0693 - acc: 0.9783 - val_loss: 0.0538 - val_acc: 0.9811\n",
            "Epoch 7/10\n",
            "304/305 [============================>.] - ETA: 0s - loss: 0.0696 - acc: 0.9788Epoch 1/10\n",
            " 38/305 [==>...........................] - ETA: 50s - loss: 0.0287 - acc: 0.9910\n",
            "Epoch 00007: val_acc improved from 0.98931 to 0.99095, saving model to best_model.hdf5\n",
            "305/305 [==============================] - 219s 718ms/step - loss: 0.0694 - acc: 0.9788 - val_loss: 0.0287 - val_acc: 0.9910\n",
            "Epoch 8/10\n",
            "304/305 [============================>.] - ETA: 0s - loss: 0.0523 - acc: 0.9835Epoch 1/10\n",
            " 38/305 [==>...........................] - ETA: 49s - loss: 0.0567 - acc: 0.9844\n",
            "Epoch 00008: val_acc did not improve from 0.99095\n",
            "305/305 [==============================] - 218s 716ms/step - loss: 0.0524 - acc: 0.9835 - val_loss: 0.0567 - val_acc: 0.9844\n",
            "Epoch 9/10\n",
            "304/305 [============================>.] - ETA: 0s - loss: 0.0702 - acc: 0.9794Epoch 1/10\n",
            " 38/305 [==>...........................] - ETA: 50s - loss: 0.0965 - acc: 0.9729\n",
            "Epoch 00009: val_acc did not improve from 0.99095\n",
            "305/305 [==============================] - 218s 716ms/step - loss: 0.0701 - acc: 0.9794 - val_loss: 0.0965 - val_acc: 0.9729\n",
            "Epoch 10/10\n",
            "304/305 [============================>.] - ETA: 0s - loss: 0.0504 - acc: 0.9849Epoch 1/10\n",
            " 38/305 [==>...........................] - ETA: 50s - loss: 0.0305 - acc: 0.9901\n",
            "Epoch 00010: val_acc did not improve from 0.99095\n",
            "305/305 [==============================] - 217s 713ms/step - loss: 0.0504 - acc: 0.9850 - val_loss: 0.0305 - val_acc: 0.9901\n"
          ]
        }
      ]
    },
    {
      "cell_type": "code",
      "source": [
        "acc = history.history['acc']\n",
        "val_acc = history.history['val_acc']\n",
        "loss = history.history['loss']\n",
        "val_loss = history.history['val_loss']\n",
        "\n",
        "epochs_x = range(len(acc))\n",
        "\n",
        "plt.plot(epochs_x, acc, 'bo', label='Training acc')\n",
        "plt.plot(epochs_x, val_acc, 'b', label='Validation acc')\n",
        "plt.title('Training and validation accuracy')\n",
        "plt.legend()\n",
        "\n",
        "plt.figure()\n",
        "\n",
        "plt.plot(epochs_x, loss, 'bo', label='Training loss')\n",
        "plt.plot(epochs_x, val_loss, 'b', label='Validation loss')\n",
        "plt.title('Training and validation loss')\n",
        "plt.legend()\n",
        "\n",
        "plt.show()"
      ],
      "metadata": {
        "colab": {
          "base_uri": "https://localhost:8080/",
          "height": 545
        },
        "id": "gL9ofb5B0f6c",
        "outputId": "49942414-75c2-4615-b5e1-046e47023e15"
      },
      "execution_count": 29,
      "outputs": [
        {
          "output_type": "display_data",
          "data": {
            "image/png": "[encoded data removed]",
            "text/plain": [
              "<Figure size 432x288 with 1 Axes>"
            ]
          },
          "metadata": {
            "needs_background": "light"
          }
        },
        {
          "output_type": "display_data",
          "data": {
            "image/png": "[encoded data removed]",
            "text/plain": [
              "<Figure size 432x288 with 1 Axes>"
            ]
          },
          "metadata": {
            "needs_background": "light"
          }
        }
      ]
    },
    {
      "cell_type": "code",
      "source": [
        "test_generator = test_datagen.flow_from_directory(\n",
        "        test_dir,\n",
        "        target_size=(height, width),\n",
        "        batch_size=1,\n",
        "        class_mode='categorical')"
      ],
      "metadata": {
        "colab": {
          "base_uri": "https://localhost:8080/"
        },
        "id": "otMnM_USDOxC",
        "outputId": "b9085b77-ea1a-4a9a-d473-fae8cb44c3a9"
      },
      "execution_count": 30,
      "outputs": [
        {
          "output_type": "stream",
          "name": "stdout",
          "text": [
            "Found 1211 images belonging to 11 classes.\n"
          ]
        }
      ]
    },
    {
      "cell_type": "code",
      "source": [
        "model.evaluate_generator(test_generator,verbose=1)"
      ],
      "metadata": {
        "colab": {
          "base_uri": "https://localhost:8080/"
        },
        "id": "QfXQ-9HjDuCb",
        "outputId": "53a88bde-3def-4485-861c-26369bb0d49c"
      },
      "execution_count": 31,
      "outputs": [
        {
          "output_type": "stream",
          "name": "stdout",
          "text": [
            "1211/1211 [==============================] - 37s 31ms/step - loss: 0.0384 - acc: 0.9893\n"
          ]
        },
        {
          "output_type": "execute_result",
          "data": {
            "text/plain": [
              "[0.038369266174336995, 0.9892651]"
            ]
          },
          "metadata": {},
          "execution_count": 31
        }
      ]
    },
    {
      "cell_type": "markdown",
      "source": [
        "Best test accuracy till now: 0.9909166"
      ],
      "metadata": {
        "id": "_1e8eKl9t_sR"
      }
    }
  ]
}